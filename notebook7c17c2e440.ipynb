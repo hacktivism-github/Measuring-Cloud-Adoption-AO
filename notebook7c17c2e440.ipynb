{
 "cells": [
  {
   "cell_type": "markdown",
   "id": "0ebf2a1c",
   "metadata": {
    "papermill": {
     "duration": 0.003538,
     "end_time": "2023-07-19T23:19:45.404013",
     "exception": false,
     "start_time": "2023-07-19T23:19:45.400475",
     "status": "completed"
    },
    "tags": []
   },
   "source": [
    "[BeautifulSoup](https://pypi.org/project/beautifulsoup4/) \n",
    "\n",
    "**Version:** 0.5\n",
    "<p>**Description:** Adding the Banks (Angola) MX Records to the dataset</p>\n",
    "\n",
    "This code uses the dns.resolver module from dnspython to retrieve the MX records for each naked domain. The MX records are stored in the \"mx_records\" column of the CSV file.\n",
    "\n",
    "This updated code handles common exceptions related to DNS resolution, such as NXDOMAIN, NoNameservers, and NoAnswer. Additionally, it captures any other DNSException and includes the error message in the mx_records field."
   ]
  },
  {
   "cell_type": "code",
   "execution_count": 1,
   "id": "91827a27",
   "metadata": {
    "execution": {
     "iopub.execute_input": "2023-07-19T23:19:45.412603Z",
     "iopub.status.busy": "2023-07-19T23:19:45.411715Z",
     "iopub.status.idle": "2023-07-19T23:19:59.920732Z",
     "shell.execute_reply": "2023-07-19T23:19:59.919739Z"
    },
    "papermill": {
     "duration": 14.516046,
     "end_time": "2023-07-19T23:19:59.923237",
     "exception": false,
     "start_time": "2023-07-19T23:19:45.407191",
     "status": "completed"
    },
    "tags": []
   },
   "outputs": [
    {
     "name": "stdout",
     "output_type": "stream",
     "text": [
      "Collecting dnspython\r\n",
      "  Downloading dnspython-2.4.0-py3-none-any.whl (300 kB)\r\n",
      "\u001b[2K     \u001b[90m━━━━━━━━━━━━━━━━━━━━━━━━━━━━━━━━━━━━━━━\u001b[0m \u001b[32m300.0/300.0 kB\u001b[0m \u001b[31m5.1 MB/s\u001b[0m eta \u001b[36m0:00:00\u001b[0m\r\n",
      "\u001b[?25hCollecting httpcore>=0.17.3 (from dnspython)\r\n",
      "  Downloading httpcore-0.17.3-py3-none-any.whl (74 kB)\r\n",
      "\u001b[2K     \u001b[90m━━━━━━━━━━━━━━━━━━━━━━━━━━━━━━━━━━━━━━━━\u001b[0m \u001b[32m74.5/74.5 kB\u001b[0m \u001b[31m6.2 MB/s\u001b[0m eta \u001b[36m0:00:00\u001b[0m\r\n",
      "\u001b[?25hRequirement already satisfied: sniffio<2.0,>=1.1 in /opt/conda/lib/python3.10/site-packages (from dnspython) (1.3.0)\r\n",
      "Requirement already satisfied: h11<0.15,>=0.13 in /opt/conda/lib/python3.10/site-packages (from httpcore>=0.17.3->dnspython) (0.14.0)\r\n",
      "Requirement already satisfied: anyio<5.0,>=3.0 in /opt/conda/lib/python3.10/site-packages (from httpcore>=0.17.3->dnspython) (3.7.0)\r\n",
      "Requirement already satisfied: certifi in /opt/conda/lib/python3.10/site-packages (from httpcore>=0.17.3->dnspython) (2023.5.7)\r\n",
      "Requirement already satisfied: idna>=2.8 in /opt/conda/lib/python3.10/site-packages (from anyio<5.0,>=3.0->httpcore>=0.17.3->dnspython) (3.4)\r\n",
      "Requirement already satisfied: exceptiongroup in /opt/conda/lib/python3.10/site-packages (from anyio<5.0,>=3.0->httpcore>=0.17.3->dnspython) (1.1.1)\r\n",
      "Installing collected packages: httpcore, dnspython\r\n",
      "Successfully installed dnspython-2.4.0 httpcore-0.17.3\r\n"
     ]
    }
   ],
   "source": [
    "!pip3 install dnspython"
   ]
  },
  {
   "cell_type": "code",
   "execution_count": 2,
   "id": "cfecf821",
   "metadata": {
    "execution": {
     "iopub.execute_input": "2023-07-19T23:19:59.933122Z",
     "iopub.status.busy": "2023-07-19T23:19:59.932180Z",
     "iopub.status.idle": "2023-07-19T23:20:15.245790Z",
     "shell.execute_reply": "2023-07-19T23:20:15.244395Z"
    },
    "papermill": {
     "duration": 15.321213,
     "end_time": "2023-07-19T23:20:15.248435",
     "exception": false,
     "start_time": "2023-07-19T23:19:59.927222",
     "status": "completed"
    },
    "tags": []
   },
   "outputs": [
    {
     "name": "stdout",
     "output_type": "stream",
     "text": [
      "Collecting python-whois\r\n",
      "  Downloading python-whois-0.8.0.tar.gz (109 kB)\r\n",
      "\u001b[2K     \u001b[90m━━━━━━━━━━━━━━━━━━━━━━━━━━━━━━━━━━━━━━━\u001b[0m \u001b[32m109.6/109.6 kB\u001b[0m \u001b[31m5.1 MB/s\u001b[0m eta \u001b[36m0:00:00\u001b[0m\r\n",
      "\u001b[?25h  Preparing metadata (setup.py) ... \u001b[?25l-\b \b\\\b \bdone\r\n",
      "\u001b[?25hRequirement already satisfied: future in /opt/conda/lib/python3.10/site-packages (from python-whois) (0.18.3)\r\n",
      "Building wheels for collected packages: python-whois\r\n",
      "  Building wheel for python-whois (setup.py) ... \u001b[?25l-\b \b\\\b \b|\b \bdone\r\n",
      "\u001b[?25h  Created wheel for python-whois: filename=python_whois-0.8.0-py3-none-any.whl size=103263 sha256=a956acfa4dc5041c113d1042656ccd9bf3aa59e8c0e39fca28e62d001c3a4a20\r\n",
      "  Stored in directory: /root/.cache/pip/wheels/10/f1/87/145023b9a206e2e948be6480c61ef3fd3dbb81ef11b6977782\r\n",
      "Successfully built python-whois\r\n",
      "Installing collected packages: python-whois\r\n",
      "Successfully installed python-whois-0.8.0\r\n"
     ]
    }
   ],
   "source": [
    "!pip install python-whois"
   ]
  },
  {
   "cell_type": "code",
   "execution_count": 3,
   "id": "8eef137a",
   "metadata": {
    "execution": {
     "iopub.execute_input": "2023-07-19T23:20:15.260057Z",
     "iopub.status.busy": "2023-07-19T23:20:15.259686Z",
     "iopub.status.idle": "2023-07-19T23:20:52.360818Z",
     "shell.execute_reply": "2023-07-19T23:20:52.359340Z"
    },
    "papermill": {
     "duration": 37.109667,
     "end_time": "2023-07-19T23:20:52.363087",
     "exception": false,
     "start_time": "2023-07-19T23:20:15.253420",
     "status": "completed"
    },
    "tags": []
   },
   "outputs": [
    {
     "name": "stdout",
     "output_type": "stream",
     "text": [
      "Error trying to connect to socket: closing socket - [Errno -2] Name or service not known\n",
      "Error trying to connect to socket: closing socket - [Errno -2] Name or service not known\n",
      "Error trying to connect to socket: closing socket - [Errno -2] Name or service not known\n",
      "Error trying to connect to socket: closing socket - [Errno -2] Name or service not known\n",
      "Error trying to connect to socket: closing socket - [Errno -2] Name or service not known\n",
      "Error trying to connect to socket: closing socket - [Errno -2] Name or service not known\n",
      "Error trying to connect to socket: closing socket - [Errno -2] Name or service not known\n",
      "Bank details written to bank_details-5.0.1.csv\n"
     ]
    }
   ],
   "source": [
    "import csv\n",
    "from bs4 import BeautifulSoup\n",
    "from urllib.parse import urlparse\n",
    "import dns.resolver\n",
    "import requests\n",
    "import whois\n",
    "\n",
    "# Send a GET request to the webpage\n",
    "url = \"https://www.abanc.ao/sistema-financeiro/instituicoes-bancarias-autorizadas/\"\n",
    "response = requests.get(url)\n",
    "\n",
    "# Create a BeautifulSoup object to parse the HTML content\n",
    "soup = BeautifulSoup(response.content, \"html.parser\")\n",
    "\n",
    "# Find all bank information div elements\n",
    "bank_divs = soup.find_all(\"div\", class_=\"cmsAccordion\")\n",
    "\n",
    "# Initialize an empty list to store the bank details\n",
    "bank_details = []\n",
    "\n",
    "# Iterate over each bank div\n",
    "for bank_div in bank_divs:\n",
    "    # Extract bank name\n",
    "    bank_name = bank_div.find(\"p\", class_=\"heading\").text.strip()\n",
    "\n",
    "    # Extract bank info divs\n",
    "    bank_info_divs = bank_div.find_all(\"div\", class_=\"content\")\n",
    "\n",
    "    # Extract bank website\n",
    "    bank_website = None\n",
    "    for bank_info_div in bank_info_divs:\n",
    "        bank_website_element = bank_info_div.find(\"a\")\n",
    "        if bank_website_element:\n",
    "            bank_website = bank_website_element[\"href\"]\n",
    "            break\n",
    "\n",
    "    # If bank website is not found, check the second occurrence of class \"content\"\n",
    "    if not bank_website and len(bank_info_divs) > 1:\n",
    "        bank_info_div = bank_info_divs[1]\n",
    "        bank_website_element = bank_info_div.find(\"a\")\n",
    "        if bank_website_element:\n",
    "            bank_website = bank_website_element[\"href\"]\n",
    "\n",
    "    # Extract the naked domain from the bank website URL\n",
    "    naked_domain = None\n",
    "    if bank_website:\n",
    "        parsed_url = urlparse(bank_website)\n",
    "        netloc = parsed_url.netloc\n",
    "        if netloc.startswith(\"www.\"):\n",
    "            naked_domain = netloc[4:]  # Remove \"www\" part from the domain\n",
    "        else:\n",
    "            naked_domain = netloc\n",
    "\n",
    "    # Retrieve MX records for the naked domain\n",
    "    mx_records = None\n",
    "    if naked_domain:\n",
    "        try:\n",
    "            answers = dns.resolver.resolve(naked_domain, \"MX\")\n",
    "            mx_records = [str(r.exchange)[:-1] for r in answers]\n",
    "        except (dns.resolver.NXDOMAIN, dns.resolver.NoNameservers, dns.resolver.NoAnswer):\n",
    "            mx_records = \"No MX records found\"\n",
    "        except dns.exception.DNSException as e:\n",
    "            mx_records = f\"Error: {str(e)}\"\n",
    "\n",
    "    # Perform DNS lookup on each MX record and perform whois lookup on the IP address\n",
    "    org_names = []\n",
    "    if mx_records and mx_records != \"No MX records found\":\n",
    "        for mx_record in mx_records:\n",
    "            try:\n",
    "                answers = dns.resolver.resolve(mx_record, \"A\")\n",
    "                ip_address = answers[0].address\n",
    "\n",
    "                whois_info = whois.whois(ip_address)\n",
    "                org_name = whois_info.get(\"org\")\n",
    "                if org_name:\n",
    "                    org_names.append(org_name)\n",
    "\n",
    "            except (dns.resolver.NXDOMAIN, dns.resolver.NoNameservers, dns.resolver.NoAnswer, whois.parser.PywhoisError):\n",
    "                continue\n",
    "            except dns.exception.DNSException as e:\n",
    "                print(f\"Error performing DNS lookup for {mx_record}: {str(e)}\")\n",
    "            except Exception as e:\n",
    "                print(f\"Error performing whois lookup for {ip_address}: {str(e)}\")\n",
    "\n",
    "    # Create a dictionary to store the bank details\n",
    "    bank = {\n",
    "        \"name\": bank_name,\n",
    "        \"website\": bank_website,\n",
    "        \"naked_domain\": naked_domain,\n",
    "        \"mx_records\": mx_records,\n",
    "        \"org_names\": org_names\n",
    "    }\n",
    "\n",
    "    # Append the bank details to the list\n",
    "    bank_details.append(bank)\n",
    "\n",
    "# Specify the output CSV file path\n",
    "csv_file = \"bank_details-5.0.1.csv\"\n",
    "\n",
    "# Write the bank details to the CSV file\n",
    "with open(csv_file, \"w\", newline=\"\", encoding=\"utf-8\") as file:\n",
    "    writer = csv.DictWriter(file, fieldnames=[\"name\", \"website\", \"naked_domain\", \"mx_records\", \"org_names\"])\n",
    "    writer.writeheader()\n",
    "    writer.writerows(bank_details)\n",
    "\n",
    "print(\"Bank details written to\", csv_file)"
   ]
  },
  {
   "cell_type": "markdown",
   "id": "de992105",
   "metadata": {
    "papermill": {
     "duration": 0.004984,
     "end_time": "2023-07-19T23:20:52.373362",
     "exception": false,
     "start_time": "2023-07-19T23:20:52.368378",
     "status": "completed"
    },
    "tags": []
   },
   "source": [
    "***Version:*** 0.6\n",
    "\n",
    "***Description:*** Plotting the info using the local dataset (Generated by the previous version of the code)"
   ]
  },
  {
   "cell_type": "code",
   "execution_count": 4,
   "id": "3e367351",
   "metadata": {
    "execution": {
     "iopub.execute_input": "2023-07-19T23:20:52.386491Z",
     "iopub.status.busy": "2023-07-19T23:20:52.385262Z",
     "iopub.status.idle": "2023-07-19T23:20:52.846945Z",
     "shell.execute_reply": "2023-07-19T23:20:52.845848Z"
    },
    "papermill": {
     "duration": 0.470867,
     "end_time": "2023-07-19T23:20:52.849646",
     "exception": false,
     "start_time": "2023-07-19T23:20:52.378779",
     "status": "completed"
    },
    "tags": []
   },
   "outputs": [
    {
     "data": {
      "image/png": "[encoded data removed]",
      "text/plain": [
       "<Figure size 1200x600 with 1 Axes>"
      ]
     },
     "metadata": {},
     "output_type": "display_data"
    }
   ],
   "source": [
    "import csv\n",
    "import ast\n",
    "import matplotlib.pyplot as plt\n",
    "\n",
    "# Specify the input CSV file path\n",
    "csv_file = \"bank_details-5.0.1.csv\"\n",
    "\n",
    "# Read the bank details from the CSV file\n",
    "bank_details = []\n",
    "with open(csv_file, \"r\", encoding=\"utf-8\") as file:\n",
    "    reader = csv.DictReader(file)\n",
    "    for row in reader:\n",
    "        row[\"org_names\"] = ast.literal_eval(row[\"org_names\"])\n",
    "        bank_details.append(row)\n",
    "\n",
    "# Count the unique occurrences of each org_name\n",
    "org_name_counts = {}\n",
    "for bank in bank_details:\n",
    "    org_names = bank[\"org_names\"]\n",
    "    unique_org_names = set(org_names)  # Remove duplicates within a row\n",
    "    for org_name in unique_org_names:\n",
    "        org_name = org_name.strip(\"'\")  # Remove the single quotes from the Org Name\n",
    "        if org_name in org_name_counts:\n",
    "            org_name_counts[org_name] += 1\n",
    "        else:\n",
    "            org_name_counts[org_name] = 1\n",
    "\n",
    "# Sort the org_name_counts by count in descending order\n",
    "sorted_org_name_counts = sorted(org_name_counts.items(), key=lambda x: x[1], reverse=True)\n",
    "\n",
    "# Prepare data for plotting\n",
    "org_names = [item[0] for item in sorted_org_name_counts]\n",
    "counts = [item[1] for item in sorted_org_name_counts]\n",
    "\n",
    "# Plot the bar chart\n",
    "plt.figure(figsize=(12, 6))\n",
    "plt.bar(org_names, counts)\n",
    "plt.xlabel(\"Cloud Provider\")\n",
    "plt.ylabel(\"Number of Banks\")\n",
    "plt.title(\"Number of Banks per Cloud Provider\")\n",
    "plt.xticks(rotation=90)\n",
    "plt.tight_layout()\n",
    "plt.show()"
   ]
  }
 ],
 "metadata": {
  "kernelspec": {
   "display_name": "Python 3",
   "language": "python",
   "name": "python3"
  },
  "language_info": {
   "codemirror_mode": {
    "name": "ipython",
    "version": 3
   },
   "file_extension": ".py",
   "mimetype": "text/x-python",
   "name": "python",
   "nbconvert_exporter": "python",
   "pygments_lexer": "ipython3",
   "version": "3.10.12"
  },
  "papermill": {
   "default_parameters": {},
   "duration": 79.712248,
   "end_time": "2023-07-19T23:20:53.777283",
   "environment_variables": {},
   "exception": null,
   "input_path": "__notebook__.ipynb",
   "output_path": "__notebook__.ipynb",
   "parameters": {},
   "start_time": "2023-07-19T23:19:34.065035",
   "version": "2.4.0"
  }
 },
 "nbformat": 4,
 "nbformat_minor": 5
}
